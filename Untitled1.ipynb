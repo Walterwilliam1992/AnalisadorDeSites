{
  "nbformat": 4,
  "nbformat_minor": 0,
  "metadata": {
    "colab": {
      "provenance": [],
      "authorship_tag": "ABX9TyOX7tm8m4VH1iFQe0jWN4kJ",
      "include_colab_link": true
    },
    "kernelspec": {
      "name": "python3",
      "display_name": "Python 3"
    },
    "language_info": {
      "name": "python"
    }
  },
  "cells": [
    {
      "cell_type": "markdown",
      "metadata": {
        "id": "view-in-github",
        "colab_type": "text"
      },
      "source": [
        "<a href=\"https://colab.research.google.com/github/Walterwilliam1992/AnalisadorDeSites/blob/main/Untitled1.ipynb\" target=\"_parent\"><img src=\"https://colab.research.google.com/assets/colab-badge.svg\" alt=\"Open In Colab\"/></a>"
      ]
    },
    {
      "cell_type": "code",
      "execution_count": 1,
      "metadata": {
        "id": "FF3AK7-BJGtR"
      },
      "outputs": [],
      "source": [
        "!pip install -q -U google-generativeai\n"
      ]
    },
    {
      "cell_type": "markdown",
      "source": [],
      "metadata": {
        "id": "kaLW65Bd3Hby"
      }
    },
    {
      "cell_type": "code",
      "source": [
        "generation_config = {\n",
        "  \"candidate_count\": 1,\n",
        "  \"temperature\": 0.5,\n",
        "}"
      ],
      "metadata": {
        "id": "bzsVjU9mM_xg"
      },
      "execution_count": 2,
      "outputs": []
    },
    {
      "cell_type": "code",
      "source": [
        "import google.generativeai as genai\n",
        "import textwrap\n",
        "from IPython.display import display, Markdown\n",
        "import time\n",
        "import requests\n",
        "\n",
        "# Configuração (substitua pela sua chave)\n",
        "GOOGLE_API_KEY = \"Sua_api_key\"\n",
        "genai.configure(api_key=GOOGLE_API_KEY)\n",
        "\n",
        "# Função para formatação Markdown\n",
        "def to_markdown(text):\n",
        "    text = text.replace('•', ' *')\n",
        "    return Markdown(textwrap.indent(text, '> ', predicate=lambda _: True))\n",
        "\n",
        "# Instanciação do Modelo (configure generation_config e safety_settings)\n",
        "model = genai.GenerativeModel(model_name='gemini-1.0-pro')\n",
        "\n",
        "# Função para analisar a velocidade de um site\n",
        "def analisar_velocidade(url):\n",
        "    try:\n",
        "        inicio = time.time()\n",
        "        response = requests.get(url)\n",
        "        fim = time.time()\n",
        "        tempo_resposta = fim - inicio\n",
        "\n",
        "        if tempo_resposta <= 1:\n",
        "            avaliacao = \"Ideal\"\n",
        "        elif tempo_resposta <= 3:\n",
        "            avaliacao = \"Ainda aceitável\"\n",
        "        elif tempo_resposta <= 5:\n",
        "            avaliacao = \"Limite\"\n",
        "        else:\n",
        "            avaliacao = \"Lento\"\n",
        "\n",
        "        return f\"O tempo de resposta do site foi de {tempo_resposta:.2f} segundos. Avaliação: {avaliacao}\"\n",
        "\n",
        "    except requests.exceptions.RequestException as e:\n",
        "        return f\"Erro ao acessar o site: {e}\"\n",
        "\n",
        "# Loop de Chat\n",
        "chat = model.start_chat(history=[])\n",
        "\n",
        "while True:\n",
        "    prompt = input('Digite a URL do site para análise (ou \"fim\" para sair): ')\n",
        "    if prompt == \"fim\":\n",
        "        break\n",
        "\n",
        "    # Análise da velocidade do site\n",
        "    resultado_analise = analisar_velocidade(prompt)\n",
        "\n",
        "    # Envio da resposta do chatbot\n",
        "    response = chat.send_message(f\"Analisando a velocidade do site... {resultado_analise}\")\n",
        "    print(\"Resposta:\", response.text, '\\n\\n')\n",
        "\n",
        "    # Exibição do Histórico\n",
        "    for message in chat.history:\n",
        "        display(to_markdown(f\"**{message.role}**: {message.parts[0].text}\"))\n",
        "\n",
        "    print('-------------------------------------------')"
      ],
      "metadata": {
        "colab": {
          "base_uri": "https://localhost:8080/",
          "height": 1000
        },
        "id": "PXSMzQJ32VqF",
        "outputId": "e45236e4-78fd-41fb-cd98-bd86d88f160b"
      },
      "execution_count": 3,
      "outputs": [
        {
          "output_type": "stream",
          "name": "stdout",
          "text": [
            "Digite a URL do site para análise (ou \"fim\" para sair): https://www.youtube.com/\n",
            "Resposta: **Avaliação do Tempo de Resposta do Site**\n",
            "\n",
            "**Tempo de Resposta:** 0,20 segundos\n",
            "\n",
            "**Avaliação:** Ideal\n",
            "\n",
            "**Análise:**\n",
            "\n",
            "O tempo de resposta do site de 0,20 segundos atende ao padrão da indústria para um tempo de resposta ideal. Os sites que carregam rapidamente fornecem uma melhor experiência do usuário, pois os usuários não precisam esperar muito para que o conteúdo seja exibido. Isso pode levar a:\n",
            "\n",
            "* Taxas de rejeição mais baixas\n",
            "* Mais engajamento do usuário\n",
            "* Melhor classificação nos resultados da pesquisa\n",
            "\n",
            "**Recomendações:**\n",
            "\n",
            "Como o tempo de resposta do seu site já está ideal, nenhuma ação adicional é necessária. No entanto, é importante monitorar regularmente o tempo de resposta do seu site e tomar medidas para otimizá-lo se necessário. Isso ajudará a garantir que seu site continue a fornecer uma experiência rápida e sem atritos para seus usuários. \n",
            "\n",
            "\n"
          ]
        },
        {
          "output_type": "display_data",
          "data": {
            "text/plain": [
              "<IPython.core.display.Markdown object>"
            ],
            "text/markdown": "> **user**: Analisando a velocidade do site... O tempo de resposta do site foi de 0.20 segundos. Avaliação: Ideal"
          },
          "metadata": {}
        },
        {
          "output_type": "display_data",
          "data": {
            "text/plain": [
              "<IPython.core.display.Markdown object>"
            ],
            "text/markdown": "> **model**: **Avaliação do Tempo de Resposta do Site**\n> \n> **Tempo de Resposta:** 0,20 segundos\n> \n> **Avaliação:** Ideal\n> \n> **Análise:**\n> \n> O tempo de resposta do site de 0,20 segundos atende ao padrão da indústria para um tempo de resposta ideal. Os sites que carregam rapidamente fornecem uma melhor experiência do usuário, pois os usuários não precisam esperar muito para que o conteúdo seja exibido. Isso pode levar a:\n> \n> * Taxas de rejeição mais baixas\n> * Mais engajamento do usuário\n> * Melhor classificação nos resultados da pesquisa\n> \n> **Recomendações:**\n> \n> Como o tempo de resposta do seu site já está ideal, nenhuma ação adicional é necessária. No entanto, é importante monitorar regularmente o tempo de resposta do seu site e tomar medidas para otimizá-lo se necessário. Isso ajudará a garantir que seu site continue a fornecer uma experiência rápida e sem atritos para seus usuários."
          },
          "metadata": {}
        },
        {
          "output_type": "stream",
          "name": "stdout",
          "text": [
            "-------------------------------------------\n"
          ]
        },
        {
          "output_type": "error",
          "ename": "KeyboardInterrupt",
          "evalue": "Interrupted by user",
          "traceback": [
            "\u001b[0;31m---------------------------------------------------------------------------\u001b[0m",
            "\u001b[0;31mKeyboardInterrupt\u001b[0m                         Traceback (most recent call last)",
            "\u001b[0;32m<ipython-input-3-eae9e7a35b1c>\u001b[0m in \u001b[0;36m<cell line: 44>\u001b[0;34m()\u001b[0m\n\u001b[1;32m     43\u001b[0m \u001b[0;34m\u001b[0m\u001b[0m\n\u001b[1;32m     44\u001b[0m \u001b[0;32mwhile\u001b[0m \u001b[0;32mTrue\u001b[0m\u001b[0;34m:\u001b[0m\u001b[0;34m\u001b[0m\u001b[0;34m\u001b[0m\u001b[0m\n\u001b[0;32m---> 45\u001b[0;31m     \u001b[0mprompt\u001b[0m \u001b[0;34m=\u001b[0m \u001b[0minput\u001b[0m\u001b[0;34m(\u001b[0m\u001b[0;34m'Digite a URL do site para análise (ou \"fim\" para sair): '\u001b[0m\u001b[0;34m)\u001b[0m\u001b[0;34m\u001b[0m\u001b[0;34m\u001b[0m\u001b[0m\n\u001b[0m\u001b[1;32m     46\u001b[0m     \u001b[0;32mif\u001b[0m \u001b[0mprompt\u001b[0m \u001b[0;34m==\u001b[0m \u001b[0;34m\"fim\"\u001b[0m\u001b[0;34m:\u001b[0m\u001b[0;34m\u001b[0m\u001b[0;34m\u001b[0m\u001b[0m\n\u001b[1;32m     47\u001b[0m         \u001b[0;32mbreak\u001b[0m\u001b[0;34m\u001b[0m\u001b[0;34m\u001b[0m\u001b[0m\n",
            "\u001b[0;32m/usr/local/lib/python3.10/dist-packages/ipykernel/kernelbase.py\u001b[0m in \u001b[0;36mraw_input\u001b[0;34m(self, prompt)\u001b[0m\n\u001b[1;32m    849\u001b[0m                 \u001b[0;34m\"raw_input was called, but this frontend does not support input requests.\"\u001b[0m\u001b[0;34m\u001b[0m\u001b[0;34m\u001b[0m\u001b[0m\n\u001b[1;32m    850\u001b[0m             )\n\u001b[0;32m--> 851\u001b[0;31m         return self._input_request(str(prompt),\n\u001b[0m\u001b[1;32m    852\u001b[0m             \u001b[0mself\u001b[0m\u001b[0;34m.\u001b[0m\u001b[0m_parent_ident\u001b[0m\u001b[0;34m,\u001b[0m\u001b[0;34m\u001b[0m\u001b[0;34m\u001b[0m\u001b[0m\n\u001b[1;32m    853\u001b[0m             \u001b[0mself\u001b[0m\u001b[0;34m.\u001b[0m\u001b[0m_parent_header\u001b[0m\u001b[0;34m,\u001b[0m\u001b[0;34m\u001b[0m\u001b[0;34m\u001b[0m\u001b[0m\n",
            "\u001b[0;32m/usr/local/lib/python3.10/dist-packages/ipykernel/kernelbase.py\u001b[0m in \u001b[0;36m_input_request\u001b[0;34m(self, prompt, ident, parent, password)\u001b[0m\n\u001b[1;32m    893\u001b[0m             \u001b[0;32mexcept\u001b[0m \u001b[0mKeyboardInterrupt\u001b[0m\u001b[0;34m:\u001b[0m\u001b[0;34m\u001b[0m\u001b[0;34m\u001b[0m\u001b[0m\n\u001b[1;32m    894\u001b[0m                 \u001b[0;31m# re-raise KeyboardInterrupt, to truncate traceback\u001b[0m\u001b[0;34m\u001b[0m\u001b[0;34m\u001b[0m\u001b[0m\n\u001b[0;32m--> 895\u001b[0;31m                 \u001b[0;32mraise\u001b[0m \u001b[0mKeyboardInterrupt\u001b[0m\u001b[0;34m(\u001b[0m\u001b[0;34m\"Interrupted by user\"\u001b[0m\u001b[0;34m)\u001b[0m \u001b[0;32mfrom\u001b[0m \u001b[0;32mNone\u001b[0m\u001b[0;34m\u001b[0m\u001b[0;34m\u001b[0m\u001b[0m\n\u001b[0m\u001b[1;32m    896\u001b[0m             \u001b[0;32mexcept\u001b[0m \u001b[0mException\u001b[0m \u001b[0;32mas\u001b[0m \u001b[0me\u001b[0m\u001b[0;34m:\u001b[0m\u001b[0;34m\u001b[0m\u001b[0;34m\u001b[0m\u001b[0m\n\u001b[1;32m    897\u001b[0m                 \u001b[0mself\u001b[0m\u001b[0;34m.\u001b[0m\u001b[0mlog\u001b[0m\u001b[0;34m.\u001b[0m\u001b[0mwarning\u001b[0m\u001b[0;34m(\u001b[0m\u001b[0;34m\"Invalid Message:\"\u001b[0m\u001b[0;34m,\u001b[0m \u001b[0mexc_info\u001b[0m\u001b[0;34m=\u001b[0m\u001b[0;32mTrue\u001b[0m\u001b[0;34m)\u001b[0m\u001b[0;34m\u001b[0m\u001b[0;34m\u001b[0m\u001b[0m\n",
            "\u001b[0;31mKeyboardInterrupt\u001b[0m: Interrupted by user"
          ]
        }
      ]
    }
  ]
}